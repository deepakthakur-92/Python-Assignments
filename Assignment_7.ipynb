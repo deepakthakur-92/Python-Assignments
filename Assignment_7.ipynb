{
 "cells": [
  {
   "cell_type": "code",
   "execution_count": null,
   "metadata": {},
   "outputs": [],
   "source": [
    "'''\n",
    "1. What is the name of the feature responsible for generating Regex objects?\n",
    "\n",
    "- re.compile(), we can combine a regular expression pattern into pattern objects, which can be used for pattern matching. \n",
    "  It also helps to search a pattern again without rewirting it.\n",
    "\n",
    "'''"
   ]
  },
  {
   "cell_type": "code",
   "execution_count": 1,
   "metadata": {},
   "outputs": [
    {
     "name": "stdout",
     "output_type": "stream",
     "text": [
      "['The', 'The']\n",
      "['The']\n"
     ]
    }
   ],
   "source": [
    "import re\n",
    "p = re.compile('The')\n",
    "res = p.findall(\"The Taj mahal is The 7th wonder of world\")\n",
    "print(res)\n",
    "res2 = p.findall(\"The lal quila is in Delhi\")\n",
    "print(res2)"
   ]
  },
  {
   "cell_type": "code",
   "execution_count": null,
   "metadata": {},
   "outputs": [],
   "source": [
    "'''\n",
    "2. Why do raw strings often appear in Regex objects?\n",
    "\n",
    "-  Raw strings are used because backlashes do not have to be escaped.'''"
   ]
  },
  {
   "cell_type": "code",
   "execution_count": null,
   "metadata": {},
   "outputs": [],
   "source": [
    "'''\n",
    "3. What is the return value of the search() method?\n",
    "\n",
    "- Returns a Match object if there is a match anywhere in the string'''"
   ]
  },
  {
   "cell_type": "code",
   "execution_count": null,
   "metadata": {},
   "outputs": [],
   "source": [
    "'''\n",
    "4. From a Match item, how do you get the actual strings that match the pattern?\n",
    "\n",
    "- Using group() which returns strings of the matched text.\n",
    "'''"
   ]
  },
  {
   "cell_type": "code",
   "execution_count": null,
   "metadata": {},
   "outputs": [],
   "source": [
    "'''\n",
    "5. In the regex which created from the r'(\\d\\d\\d)-(\\d\\d\\d-\\d\\d\\d\\d)', what does group zero cover?\n",
    "Group 2? Group 1?\n",
    "'''"
   ]
  },
  {
   "cell_type": "code",
   "execution_count": 8,
   "metadata": {},
   "outputs": [
    {
     "name": "stdout",
     "output_type": "stream",
     "text": [
      "This is group zero:: 123-456-7890\n",
      "This is group one:: 123\n",
      "This is group two:: 456-7890\n"
     ]
    }
   ],
   "source": [
    "import re\n",
    "phno = re.compile(r'(\\d\\d\\d)-(\\d\\d\\d-\\d\\d\\d\\d)')\n",
    "mo = phno.search(\"My number is 123-456-7890\")\n",
    "print(\"This is group zero::\", mo.group(0))\n",
    "print(\"This is group one::\", mo.group(1))\n",
    "print(\"This is group two::\", mo.group(2))"
   ]
  },
  {
   "cell_type": "code",
   "execution_count": null,
   "metadata": {},
   "outputs": [],
   "source": [
    "'''\n",
    "6. In standard expression syntax, parentheses and intervals have distinct meanings. How can you tell\n",
    "a regex that you want it to fit real parentheses and periods?\n",
    "\n",
    "- peroids and paranthesis can be escpaed with a backlashes:\\., \\(,and \\)\n",
    "'''"
   ]
  },
  {
   "cell_type": "code",
   "execution_count": null,
   "metadata": {},
   "outputs": [],
   "source": [
    "'''\n",
    "7. The findall() method returns a string list or a list of string tuples. What causes it to return one of\n",
    "the two options?\n",
    "- If there is no group in regex , a list of string is returned.\n",
    "- If there is groups , alist of tuples of string is returned.\n",
    "'''"
   ]
  },
  {
   "cell_type": "code",
   "execution_count": null,
   "metadata": {},
   "outputs": [],
   "source": [
    "'''\n",
    "8. In standard expressions, what does the | character mean?\n",
    "\n",
    "- Character | means \"either, or\" between the two groups\n",
    "'''"
   ]
  },
  {
   "cell_type": "code",
   "execution_count": null,
   "metadata": {},
   "outputs": [],
   "source": [
    "'''\n",
    "9. In regular expressions, what does the character stand for?\n",
    "\n",
    "-  ^ - starts with\n",
    "-  $ - ends with\n",
    "-  | - either, or\n",
    "\n",
    "'''"
   ]
  },
  {
   "cell_type": "code",
   "execution_count": null,
   "metadata": {},
   "outputs": [],
   "source": [
    "'''\n",
    "10.In regular expressions, what is the difference between the + and * characters?\n",
    "\n",
    "-  + one or more occurences, * - Zero or more occurences\n",
    "'''"
   ]
  },
  {
   "cell_type": "code",
   "execution_count": null,
   "metadata": {},
   "outputs": [],
   "source": [
    "'''\n",
    "11. What is the difference between {4} and {4,5} in regular expression?\n",
    "\n",
    "- {4} matches exact 3 and {4,5} matches between 3 and 5.\n",
    "'''"
   ]
  },
  {
   "cell_type": "code",
   "execution_count": null,
   "metadata": {},
   "outputs": [],
   "source": [
    "'''\n",
    "12. What do you mean by the \\d, \\w, and \\s shorthand character classes signify in regular\n",
    "expressions?\n",
    "\n",
    "-  \\d returns a match where the string contains digits\n",
    "   \\w returns a match where the string contains any word characters\n",
    "   \\s returns a match where the string contains white space character. \n",
    "'''"
   ]
  },
  {
   "cell_type": "code",
   "execution_count": null,
   "metadata": {},
   "outputs": [],
   "source": [
    "'''\n",
    "13. What do means by \\D, \\W, and \\S shorthand character classes signify in regular expressions?\n",
    "\n",
    "-  \\D returns a match where the string doesn't contains digit\n",
    "   \\W returns a match where the string doesn't contain any word characters.\n",
    "   \\S returns a mathc where the string doesn't contain a white space character. \n",
    "'''"
   ]
  },
  {
   "cell_type": "code",
   "execution_count": null,
   "metadata": {},
   "outputs": [],
   "source": [
    "'''\n",
    "14. What is the difference between .*? and .* ?\n",
    "\n",
    "-\n",
    "'''"
   ]
  },
  {
   "cell_type": "code",
   "execution_count": null,
   "metadata": {},
   "outputs": [],
   "source": [
    "'''\n",
    "15. What is the syntax for matching both numbers and lowercase letters with a character class?\n",
    "\n",
    "- [0-9a-z] or [a-z0-9]\n",
    "'''"
   ]
  },
  {
   "cell_type": "code",
   "execution_count": null,
   "metadata": {},
   "outputs": [],
   "source": [
    "'''\n",
    "16. What is the procedure for making a normal expression in regax case insensitive?\n",
    "\n",
    "-  re.IGNORECASE should be second argument to re.compile() will make the matching case insensitive.\n",
    "'''"
   ]
  },
  {
   "cell_type": "code",
   "execution_count": null,
   "metadata": {},
   "outputs": [],
   "source": [
    "'''\n",
    "17. What does the . character normally match? What does it match if re.DOTALL is passed as 2nd\n",
    "argument in re.compile()?\n",
    "\n",
    "- .character normally matches any character except newline character. re.DOTALL is passed as 2nd\n",
    "argument in re.compile() then it will also match newline characters.\n",
    "'''"
   ]
  },
  {
   "cell_type": "code",
   "execution_count": null,
   "metadata": {},
   "outputs": [],
   "source": [
    "'''\n",
    "18. If numReg = re.compile(r'\\d+'), what will numRegex.sub('X','11 drummers, 10 pipers, five rings, 4\n",
    "hen') return?\n",
    "\n",
    "-  'X drummers, X pipers, five rings, X hens'\n",
    "'''"
   ]
  },
  {
   "cell_type": "code",
   "execution_count": null,
   "metadata": {},
   "outputs": [],
   "source": [
    "'''\n",
    "19. What does passing re.VERBOSE as the 2nd argument to re.compile() allow to do?\n",
    "\n",
    "- re.VERBOSE allow to add whitespace and comments to the string passed to re.compile()\n",
    "'''"
   ]
  },
  {
   "cell_type": "code",
   "execution_count": null,
   "metadata": {},
   "outputs": [],
   "source": [
    "'''\n",
    "20. How would you write a regex that match a number with comma for every three digits? It must\n",
    "match the given following:\n",
    "\n",
    "'42'\n",
    "'1,234'\n",
    "'6,368,745'\n",
    "but not the following:\n",
    "'12,34,567'(which has only 2 digits between the commas)\n",
    "'1234'(which lacks commas)\n",
    "\n",
    "\n",
    "-  re.compile(r'^\\d{1,3}(,\\d{3})*$')\n",
    "'''"
   ]
  },
  {
   "cell_type": "code",
   "execution_count": null,
   "metadata": {},
   "outputs": [],
   "source": [
    "'''\n",
    "21. How would you write a regex that matches the full name of someone whose last name is\n",
    "Watanabe? You can assume that the first name that comes before it will always be one word that\n",
    "begins with a capital letter. The regex must match the following:\n",
    "\n",
    "'Haruto Watanabe'\n",
    "'Alice Watanabe'\n",
    "'RoboCop Watanabe'\n",
    "but not the following:\n",
    "'huruto Watanabe'(where the first name is not capitalized)\n",
    "'Mr. Watanabe'(where the preceding word has a nonletter character)\n",
    "'Watanabe'(which has no first name)\n",
    "'haruto Watanabe'(where watanabe is not capitalized)\n",
    "\n",
    "- re.compile(r'[A-Z][a-z]*\\sWatanabe')\n",
    "'''"
   ]
  },
  {
   "cell_type": "code",
   "execution_count": null,
   "metadata": {},
   "outputs": [],
   "source": [
    "'''\n",
    "22. How would you write a regex that matches a sentence where the first word is either Alice, Bob,\n",
    "or Carol; the second word is either eats, pets, or throws; the third word is apples, cats, or baseballs;\n",
    "and the sentence ends with a period? This regex should be case-insensitive. It must match the\n",
    "following:\n",
    "\n",
    "'Alice eats apples.'\n",
    "'Bob pets cats.'\n",
    "'Carol throws baseballs.'\n",
    "'Alice throws Apples.'\n",
    "'BOB EATS CATS.'\n",
    "\n",
    "but not the following:\n",
    "\n",
    "'RoboCop eats apples.'\n",
    "'ALICE THROWS FOOTBALLS.'\n",
    "'Carol eats 7 cats.'\n",
    "\n",
    "- re.compile(r'(Alice|Bob|Carol)\\s(eats|pets|throws)\\s(apples|cats|baseballs)\\.',re.IGNORECASE)\n",
    "\n",
    "'''"
   ]
  }
 ],
 "metadata": {
  "kernelspec": {
   "display_name": "Python 3",
   "language": "python",
   "name": "python3"
  },
  "language_info": {
   "codemirror_mode": {
    "name": "ipython",
    "version": 3
   },
   "file_extension": ".py",
   "mimetype": "text/x-python",
   "name": "python",
   "nbconvert_exporter": "python",
   "pygments_lexer": "ipython3",
   "version": "3.8.5"
  }
 },
 "nbformat": 4,
 "nbformat_minor": 4
}
