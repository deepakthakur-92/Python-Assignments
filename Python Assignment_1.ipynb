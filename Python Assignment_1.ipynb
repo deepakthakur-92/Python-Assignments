{
 "cells": [
  {
   "cell_type": "code",
   "execution_count": null,
   "metadata": {},
   "outputs": [],
   "source": [
    "'''\n",
    "1) In the below elements which of them are values or an expression ? e.g :- values can be integer or string  \n",
    "and expression will be mathematical operators.\n",
    "\n",
    "* - Expression\n",
    "\"hello\" - value\n",
    "-87.8 = expression\n",
    "- = expression\n",
    "/ = expression\n",
    "+ = expression\n",
    "6 = value'''"
   ]
  },
  {
   "cell_type": "code",
   "execution_count": null,
   "metadata": {},
   "outputs": [],
   "source": [
    "'''\n",
    "2) What is the difference between string and variable?\n",
    "\n",
    "- String is data type, shows which type of value is stored in variable, e.g- a = \"Deepak\", so this is string type of value \n",
    "stored in variable a.\n",
    "- Variable is use to hold a memory to store a data of any type, e.g- a= \"deepak\" , so a is variable.'''"
   ]
  },
  {
   "cell_type": "code",
   "execution_count": null,
   "metadata": {},
   "outputs": [],
   "source": [
    "'''\n",
    "3) Describe 3 different data types.\n",
    "\n",
    "- String- String is a data type written in \"\". e.g- a = \"deepak\", where type of vlaue is string.\n",
    "- int - Integer is a data type, when value in a variable is integer , e.g - a = 10.\n",
    "- boolean - boolean is a data type when value of a varaible is either True or False.\n",
    "'''"
   ]
  },
  {
   "cell_type": "code",
   "execution_count": null,
   "metadata": {},
   "outputs": [],
   "source": [
    "'''\n",
    "4) what is an expression made up of? what do all expressions do ?\n",
    "\n",
    "- Expression consists of operands, operator, variables according to syntax, expressions produces the value.\n",
    "\n",
    "'''"
   ]
  },
  {
   "cell_type": "code",
   "execution_count": null,
   "metadata": {},
   "outputs": [],
   "source": [
    "'''\n",
    "5) This assignment statments, like spam = 10, what is the difference between an expression and a statement?\n",
    "\n",
    "- expression is combination of value, operators and statement produces a value e.g- print() is a statement\n",
    "'''"
   ]
  },
  {
   "cell_type": "code",
   "execution_count": 2,
   "metadata": {},
   "outputs": [
    {
     "data": {
      "text/plain": [
       "23"
      ]
     },
     "execution_count": 2,
     "metadata": {},
     "output_type": "execute_result"
    }
   ],
   "source": [
    "'''\n",
    "6) After running the following code , what does the variable bacon contains?\n",
    "\n",
    "bacon = 22\n",
    "bacon +1\n",
    "\n",
    "- bacon will remain contain 22, if we run both the code we will get 23 '''\n",
    "\n",
    "bacon = 22\n",
    "bacon +1"
   ]
  },
  {
   "cell_type": "code",
   "execution_count": 3,
   "metadata": {},
   "outputs": [
    {
     "data": {
      "text/plain": [
       "22"
      ]
     },
     "execution_count": 3,
     "metadata": {},
     "output_type": "execute_result"
    }
   ],
   "source": [
    "bacon"
   ]
  },
  {
   "cell_type": "code",
   "execution_count": null,
   "metadata": {},
   "outputs": [],
   "source": [
    "'''\n",
    "7) what should the values of the following two terms be?\n",
    "\n",
    "\"spam\" + \"spamspam\"\n",
    "\"spam\" * 3\n",
    "\n",
    "- Both have same value as \"spamspamspam\"\n",
    "\n",
    "'''"
   ]
  },
  {
   "cell_type": "code",
   "execution_count": 5,
   "metadata": {},
   "outputs": [
    {
     "data": {
      "text/plain": [
       "'spamspamspam'"
      ]
     },
     "execution_count": 5,
     "metadata": {},
     "output_type": "execute_result"
    }
   ],
   "source": [
    "\"spam\" + \"spamspam\"\n"
   ]
  },
  {
   "cell_type": "code",
   "execution_count": 6,
   "metadata": {},
   "outputs": [
    {
     "data": {
      "text/plain": [
       "'spamspamspam'"
      ]
     },
     "execution_count": 6,
     "metadata": {},
     "output_type": "execute_result"
    }
   ],
   "source": [
    "\"spam\" * 3"
   ]
  },
  {
   "cell_type": "code",
   "execution_count": null,
   "metadata": {},
   "outputs": [],
   "source": [
    "'''\n",
    "8) why is eggs a valid variable name while 100 is invalid?\n",
    "\n",
    "- Because variable name can't be started with integer\n",
    "'''"
   ]
  },
  {
   "cell_type": "code",
   "execution_count": null,
   "metadata": {},
   "outputs": [],
   "source": [
    "'''\n",
    "9) what 3 functions can be used to get the integer, floating-point number, or string version of a value?\n",
    "\n",
    "- int(), float(), Str()\n",
    "\n",
    "'''"
   ]
  },
  {
   "cell_type": "code",
   "execution_count": null,
   "metadata": {},
   "outputs": [],
   "source": [
    "'''\n",
    "10) Why does this expression cause an error? How can you fix it?\n",
    "\n",
    "- \"I have eaten\" + 99 + \"burritos\"\n",
    "\n",
    "- we can fix this as \"I have eaten\" + \" 99 \" + \"burritos\"\n",
    "or \"I have eaten\" + str(99) + \"burritos\"\n",
    "'''"
   ]
  },
  {
   "cell_type": "code",
   "execution_count": 8,
   "metadata": {},
   "outputs": [
    {
     "data": {
      "text/plain": [
       "'I have eaten 99 burritos'"
      ]
     },
     "execution_count": 8,
     "metadata": {},
     "output_type": "execute_result"
    }
   ],
   "source": [
    "\"I have eaten\" + \" 99 \" + \"burritos\""
   ]
  },
  {
   "cell_type": "code",
   "execution_count": 9,
   "metadata": {},
   "outputs": [
    {
     "data": {
      "text/plain": [
       "'I have eaten99burritos'"
      ]
     },
     "execution_count": 9,
     "metadata": {},
     "output_type": "execute_result"
    }
   ],
   "source": [
    "\"I have eaten\" + str(99) + \"burritos\""
   ]
  },
  {
   "cell_type": "code",
   "execution_count": null,
   "metadata": {},
   "outputs": [],
   "source": []
  }
 ],
 "metadata": {
  "kernelspec": {
   "display_name": "Python 3",
   "language": "python",
   "name": "python3"
  },
  "language_info": {
   "codemirror_mode": {
    "name": "ipython",
    "version": 3
   },
   "file_extension": ".py",
   "mimetype": "text/x-python",
   "name": "python",
   "nbconvert_exporter": "python",
   "pygments_lexer": "ipython3",
   "version": "3.8.5"
  }
 },
 "nbformat": 4,
 "nbformat_minor": 4
}
